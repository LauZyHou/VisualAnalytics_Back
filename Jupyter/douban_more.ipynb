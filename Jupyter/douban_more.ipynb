{
 "cells": [
  {
   "cell_type": "code",
   "execution_count": 1,
   "metadata": {},
   "outputs": [],
   "source": [
    "import pickle\n",
    "import pandas as pd\n",
    "import re\n",
    "import numpy as np"
   ]
  },
  {
   "cell_type": "code",
   "execution_count": 2,
   "metadata": {},
   "outputs": [
    {
     "data": {
      "text/html": [
       "<div>\n",
       "<style scoped>\n",
       "    .dataframe tbody tr th:only-of-type {\n",
       "        vertical-align: middle;\n",
       "    }\n",
       "\n",
       "    .dataframe tbody tr th {\n",
       "        vertical-align: top;\n",
       "    }\n",
       "\n",
       "    .dataframe thead th {\n",
       "        text-align: right;\n",
       "    }\n",
       "</style>\n",
       "<table border=\"1\" class=\"dataframe\">\n",
       "  <thead>\n",
       "    <tr style=\"text-align: right;\">\n",
       "      <th></th>\n",
       "      <th>电影名</th>\n",
       "      <th>评分</th>\n",
       "      <th>评价人数</th>\n",
       "      <th>链接</th>\n",
       "      <th>时间</th>\n",
       "      <th>演员</th>\n",
       "    </tr>\n",
       "  </thead>\n",
       "  <tbody>\n",
       "    <tr>\n",
       "      <td>0</td>\n",
       "      <td>\"ExtremeChampionshipWrestling\"</td>\n",
       "      <td>(评价人数不足)</td>\n",
       "      <td>NaN</td>\n",
       "      <td>https://movie.douban.com/subject/1963120/</td>\n",
       "      <td>2006-06-13 00:00:00</td>\n",
       "      <td>[]</td>\n",
       "    </tr>\n",
       "    <tr>\n",
       "      <td>1</td>\n",
       "      <td>\"TheXFiles\"SE6.15Monday</td>\n",
       "      <td>9.4</td>\n",
       "      <td>52.0</td>\n",
       "      <td>https://movie.douban.com/subject/3158584/</td>\n",
       "      <td>1999-02-28 00:00:00</td>\n",
       "      <td>['大卫·杜楚尼', '吉莲·安德森', '美国', 'Kim Manners', 'Arg...</td>\n",
       "    </tr>\n",
       "    <tr>\n",
       "      <td>2</td>\n",
       "      <td>\"WWEMondayNightRAW\"Episodedated11Decembe</td>\n",
       "      <td>(评价人数不足)</td>\n",
       "      <td>NaN</td>\n",
       "      <td>https://movie.douban.com/subject/1957739/</td>\n",
       "      <td>2006-12-11 00:00:00</td>\n",
       "      <td>[]</td>\n",
       "    </tr>\n",
       "    <tr>\n",
       "      <td>3</td>\n",
       "      <td>\"WWEMondayNightRAW\"Episodedated11June200</td>\n",
       "      <td>(评价人数不足)</td>\n",
       "      <td>NaN</td>\n",
       "      <td>https://movie.douban.com/subject/2136118/</td>\n",
       "      <td>2007-06-11 00:00:00</td>\n",
       "      <td>['Kevin Dunn']</td>\n",
       "    </tr>\n",
       "    <tr>\n",
       "      <td>4</td>\n",
       "      <td>\"WWEMondayNightRAW\"Episodedated13Novembe</td>\n",
       "      <td>(评价人数不足)</td>\n",
       "      <td>NaN</td>\n",
       "      <td>https://movie.douban.com/subject/1957743/</td>\n",
       "      <td>2006-11-13 00:00:00</td>\n",
       "      <td>[]</td>\n",
       "    </tr>\n",
       "    <tr>\n",
       "      <td>5</td>\n",
       "      <td>\"WWEMondayNightRAW\"Episodedated18Decembe</td>\n",
       "      <td>(评价人数不足)</td>\n",
       "      <td>NaN</td>\n",
       "      <td>https://movie.douban.com/subject/1957737/</td>\n",
       "      <td>2006-12-18 00:00:00</td>\n",
       "      <td>[]</td>\n",
       "    </tr>\n",
       "    <tr>\n",
       "      <td>6</td>\n",
       "      <td>\"WWEMondayNightRAW\"Episodedated18June200</td>\n",
       "      <td>(评价人数不足)</td>\n",
       "      <td>NaN</td>\n",
       "      <td>https://movie.douban.com/subject/2136121/</td>\n",
       "      <td>2007-06-18 00:00:00</td>\n",
       "      <td>['Kevin Dunn']</td>\n",
       "    </tr>\n",
       "    <tr>\n",
       "      <td>7</td>\n",
       "      <td>\"WWEMondayNightRAW\"Episodedated1January2</td>\n",
       "      <td>(评价人数不足)</td>\n",
       "      <td>NaN</td>\n",
       "      <td>https://movie.douban.com/subject/1957738/</td>\n",
       "      <td>2007-01-01 00:00:00</td>\n",
       "      <td>[]</td>\n",
       "    </tr>\n",
       "    <tr>\n",
       "      <td>8</td>\n",
       "      <td>\"WWEMondayNightRAW\"Episodedated20Novembe</td>\n",
       "      <td>(评价人数不足)</td>\n",
       "      <td>NaN</td>\n",
       "      <td>https://movie.douban.com/subject/1957742/</td>\n",
       "      <td>2006-11-20 00:00:00</td>\n",
       "      <td>[]</td>\n",
       "    </tr>\n",
       "    <tr>\n",
       "      <td>9</td>\n",
       "      <td>\"WWEMondayNightRAW\"Episodedated27Novembe</td>\n",
       "      <td>(评价人数不足)</td>\n",
       "      <td>NaN</td>\n",
       "      <td>https://movie.douban.com/subject/1957741/</td>\n",
       "      <td>2006-11-27 00:00:00</td>\n",
       "      <td>[]</td>\n",
       "    </tr>\n",
       "  </tbody>\n",
       "</table>\n",
       "</div>"
      ],
      "text/plain": [
       "                                        电影名        评分  评价人数  \\\n",
       "0            \"ExtremeChampionshipWrestling\"  (评价人数不足)   NaN   \n",
       "1                   \"TheXFiles\"SE6.15Monday       9.4  52.0   \n",
       "2  \"WWEMondayNightRAW\"Episodedated11Decembe  (评价人数不足)   NaN   \n",
       "3  \"WWEMondayNightRAW\"Episodedated11June200  (评价人数不足)   NaN   \n",
       "4  \"WWEMondayNightRAW\"Episodedated13Novembe  (评价人数不足)   NaN   \n",
       "5  \"WWEMondayNightRAW\"Episodedated18Decembe  (评价人数不足)   NaN   \n",
       "6  \"WWEMondayNightRAW\"Episodedated18June200  (评价人数不足)   NaN   \n",
       "7  \"WWEMondayNightRAW\"Episodedated1January2  (评价人数不足)   NaN   \n",
       "8  \"WWEMondayNightRAW\"Episodedated20Novembe  (评价人数不足)   NaN   \n",
       "9  \"WWEMondayNightRAW\"Episodedated27Novembe  (评价人数不足)   NaN   \n",
       "\n",
       "                                          链接                   时间  \\\n",
       "0  https://movie.douban.com/subject/1963120/  2006-06-13 00:00:00   \n",
       "1  https://movie.douban.com/subject/3158584/  1999-02-28 00:00:00   \n",
       "2  https://movie.douban.com/subject/1957739/  2006-12-11 00:00:00   \n",
       "3  https://movie.douban.com/subject/2136118/  2007-06-11 00:00:00   \n",
       "4  https://movie.douban.com/subject/1957743/  2006-11-13 00:00:00   \n",
       "5  https://movie.douban.com/subject/1957737/  2006-12-18 00:00:00   \n",
       "6  https://movie.douban.com/subject/2136121/  2007-06-18 00:00:00   \n",
       "7  https://movie.douban.com/subject/1957738/  2007-01-01 00:00:00   \n",
       "8  https://movie.douban.com/subject/1957742/  2006-11-20 00:00:00   \n",
       "9  https://movie.douban.com/subject/1957741/  2006-11-27 00:00:00   \n",
       "\n",
       "                                                  演员  \n",
       "0                                                 []  \n",
       "1  ['大卫·杜楚尼', '吉莲·安德森', '美国', 'Kim Manners', 'Arg...  \n",
       "2                                                 []  \n",
       "3                                     ['Kevin Dunn']  \n",
       "4                                                 []  \n",
       "5                                                 []  \n",
       "6                                     ['Kevin Dunn']  \n",
       "7                                                 []  \n",
       "8                                                 []  \n",
       "9                                                 []  "
      ]
     },
     "execution_count": 2,
     "metadata": {},
     "output_type": "execute_result"
    }
   ],
   "source": [
    "df = pd.read_excel(\"../DataSet/douban_more/douban.xlsx\")\n",
    "df.head(10)"
   ]
  },
  {
   "cell_type": "markdown",
   "metadata": {},
   "source": [
    "### 仅保留具有可靠时间的数据(构造新的df)"
   ]
  },
  {
   "cell_type": "code",
   "execution_count": 7,
   "metadata": {},
   "outputs": [],
   "source": [
    "data = {\n",
    "    'title': [],\n",
    "    'score': [],\n",
    "    'pnum': [], # 评分人数\n",
    "    'time': [],\n",
    "    'actor': []\n",
    "}\n",
    "\n",
    "dflen = df.shape[0]\n",
    "for i in range(dflen):\n",
    "    if type(df.iloc[i,4]) is str:\n",
    "        g = re.search(r\"(\\d{4}-\\d{1,2}-\\d{1,2})\",df.iloc[i,4])\n",
    "        if g is not None:\n",
    "            # (g[0])形如 2011-06-18\n",
    "            data['title'].append(df.iloc[i,0])\n",
    "            data['score'].append(df.iloc[i,1])\n",
    "            data['pnum'].append(df.iloc[i,2])\n",
    "            data['time'].append(g[0][0:4])\n",
    "            data['actor'].append(df.iloc[i,5])\n",
    "    else:\n",
    "        data['title'].append(df.iloc[i,0])\n",
    "        data['score'].append(df.iloc[i,1])\n",
    "        data['pnum'].append(df.iloc[i,2])\n",
    "        data['time'].append(str(df.iloc[i,4])[0:4])\n",
    "        data['actor'].append(df.iloc[i,5])\n",
    "\n",
    "newdf = pd.DataFrame(data, columns=['title', 'score', 'pnum', 'time', 'actor'])\n",
    "newdf.to_csv('../DataSet/douban_more/have_time.csv', index=False, encoding=\"utf_8_sig\")"
   ]
  },
  {
   "cell_type": "markdown",
   "metadata": {},
   "source": [
    "### *读取newdf"
   ]
  },
  {
   "cell_type": "code",
   "execution_count": 14,
   "metadata": {},
   "outputs": [
    {
     "data": {
      "text/html": [
       "<div>\n",
       "<style scoped>\n",
       "    .dataframe tbody tr th:only-of-type {\n",
       "        vertical-align: middle;\n",
       "    }\n",
       "\n",
       "    .dataframe tbody tr th {\n",
       "        vertical-align: top;\n",
       "    }\n",
       "\n",
       "    .dataframe thead th {\n",
       "        text-align: right;\n",
       "    }\n",
       "</style>\n",
       "<table border=\"1\" class=\"dataframe\">\n",
       "  <thead>\n",
       "    <tr style=\"text-align: right;\">\n",
       "      <th></th>\n",
       "      <th>title</th>\n",
       "      <th>score</th>\n",
       "      <th>pnum</th>\n",
       "      <th>time</th>\n",
       "      <th>actor</th>\n",
       "    </tr>\n",
       "  </thead>\n",
       "  <tbody>\n",
       "    <tr>\n",
       "      <td>0</td>\n",
       "      <td>\"ExtremeChampionshipWrestling\"</td>\n",
       "      <td>(评价人数不足)</td>\n",
       "      <td>NaN</td>\n",
       "      <td>2006.0</td>\n",
       "      <td>[]</td>\n",
       "    </tr>\n",
       "    <tr>\n",
       "      <td>1</td>\n",
       "      <td>\"TheXFiles\"SE6.15Monday</td>\n",
       "      <td>9.4</td>\n",
       "      <td>52.0</td>\n",
       "      <td>1999.0</td>\n",
       "      <td>['大卫·杜楚尼', '吉莲·安德森', '美国', 'Kim Manners', 'Arg...</td>\n",
       "    </tr>\n",
       "    <tr>\n",
       "      <td>2</td>\n",
       "      <td>\"WWEMondayNightRAW\"Episodedated11Decembe</td>\n",
       "      <td>(评价人数不足)</td>\n",
       "      <td>NaN</td>\n",
       "      <td>2006.0</td>\n",
       "      <td>[]</td>\n",
       "    </tr>\n",
       "    <tr>\n",
       "      <td>3</td>\n",
       "      <td>\"WWEMondayNightRAW\"Episodedated11June200</td>\n",
       "      <td>(评价人数不足)</td>\n",
       "      <td>NaN</td>\n",
       "      <td>2007.0</td>\n",
       "      <td>['Kevin Dunn']</td>\n",
       "    </tr>\n",
       "    <tr>\n",
       "      <td>4</td>\n",
       "      <td>\"WWEMondayNightRAW\"Episodedated13Novembe</td>\n",
       "      <td>(评价人数不足)</td>\n",
       "      <td>NaN</td>\n",
       "      <td>2006.0</td>\n",
       "      <td>[]</td>\n",
       "    </tr>\n",
       "  </tbody>\n",
       "</table>\n",
       "</div>"
      ],
      "text/plain": [
       "                                      title     score  pnum    time  \\\n",
       "0            \"ExtremeChampionshipWrestling\"  (评价人数不足)   NaN  2006.0   \n",
       "1                   \"TheXFiles\"SE6.15Monday       9.4  52.0  1999.0   \n",
       "2  \"WWEMondayNightRAW\"Episodedated11Decembe  (评价人数不足)   NaN  2006.0   \n",
       "3  \"WWEMondayNightRAW\"Episodedated11June200  (评价人数不足)   NaN  2007.0   \n",
       "4  \"WWEMondayNightRAW\"Episodedated13Novembe  (评价人数不足)   NaN  2006.0   \n",
       "\n",
       "                                               actor  \n",
       "0                                                 []  \n",
       "1  ['大卫·杜楚尼', '吉莲·安德森', '美国', 'Kim Manners', 'Arg...  \n",
       "2                                                 []  \n",
       "3                                     ['Kevin Dunn']  \n",
       "4                                                 []  "
      ]
     },
     "execution_count": 14,
     "metadata": {},
     "output_type": "execute_result"
    }
   ],
   "source": [
    "newdf = pd.read_csv('../DataSet/douban_more/have_time.csv')\n",
    "newdf.head()"
   ]
  },
  {
   "cell_type": "markdown",
   "metadata": {},
   "source": [
    "### *清理上一步得到的时间数据，只取2010-2016(最近几年)"
   ]
  },
  {
   "cell_type": "code",
   "execution_count": 15,
   "metadata": {},
   "outputs": [
    {
     "data": {
      "text/html": [
       "<div>\n",
       "<style scoped>\n",
       "    .dataframe tbody tr th:only-of-type {\n",
       "        vertical-align: middle;\n",
       "    }\n",
       "\n",
       "    .dataframe tbody tr th {\n",
       "        vertical-align: top;\n",
       "    }\n",
       "\n",
       "    .dataframe thead th {\n",
       "        text-align: right;\n",
       "    }\n",
       "</style>\n",
       "<table border=\"1\" class=\"dataframe\">\n",
       "  <thead>\n",
       "    <tr style=\"text-align: right;\">\n",
       "      <th></th>\n",
       "      <th>title</th>\n",
       "      <th>score</th>\n",
       "      <th>pnum</th>\n",
       "      <th>time</th>\n",
       "      <th>actor</th>\n",
       "    </tr>\n",
       "  </thead>\n",
       "  <tbody>\n",
       "    <tr>\n",
       "      <td>15</td>\n",
       "      <td>(无)性恋</td>\n",
       "      <td>6.9</td>\n",
       "      <td>342.0</td>\n",
       "      <td>2011.0</td>\n",
       "      <td>['大卫·杰伊', '乔·贝哈', '塔克·卡尔森', '詹尼安·吉劳法罗', '史蒂文·帕...</td>\n",
       "    </tr>\n",
       "    <tr>\n",
       "      <td>16</td>\n",
       "      <td>0.5毫米</td>\n",
       "      <td>8.2</td>\n",
       "      <td>9027.0</td>\n",
       "      <td>2014.0</td>\n",
       "      <td>['安藤樱', '织本顺吉', '木内みどり', '土屋希望', '井上竜夫']</td>\n",
       "    </tr>\n",
       "    <tr>\n",
       "      <td>17</td>\n",
       "      <td>0.5的爱情</td>\n",
       "      <td>4.3</td>\n",
       "      <td>2866.0</td>\n",
       "      <td>2014.0</td>\n",
       "      <td>['蒲巴甲', '江语晨', '李悦铭', '龚洁', '中国大陆']</td>\n",
       "    </tr>\n",
       "    <tr>\n",
       "      <td>41</td>\n",
       "      <td>007：大破天幕杀机</td>\n",
       "      <td>6.9</td>\n",
       "      <td>163698.0</td>\n",
       "      <td>2012.0</td>\n",
       "      <td>['2012-11-09(美国)', '2013-01-21(中国大陆)', '丹尼尔·克雷...</td>\n",
       "    </tr>\n",
       "    <tr>\n",
       "      <td>43</td>\n",
       "      <td>007：幽灵党</td>\n",
       "      <td>6.2</td>\n",
       "      <td>107794.0</td>\n",
       "      <td>2015.0</td>\n",
       "      <td>['2015-11-06(美国)', '2015-11-13(中国大陆)', '丹尼尔·克雷...</td>\n",
       "    </tr>\n",
       "  </tbody>\n",
       "</table>\n",
       "</div>"
      ],
      "text/plain": [
       "         title score      pnum    time  \\\n",
       "15       (无)性恋   6.9     342.0  2011.0   \n",
       "16       0.5毫米   8.2    9027.0  2014.0   \n",
       "17      0.5的爱情   4.3    2866.0  2014.0   \n",
       "41  007：大破天幕杀机   6.9  163698.0  2012.0   \n",
       "43     007：幽灵党   6.2  107794.0  2015.0   \n",
       "\n",
       "                                                actor  \n",
       "15  ['大卫·杰伊', '乔·贝哈', '塔克·卡尔森', '詹尼安·吉劳法罗', '史蒂文·帕...  \n",
       "16           ['安藤樱', '织本顺吉', '木内みどり', '土屋希望', '井上竜夫']  \n",
       "17                ['蒲巴甲', '江语晨', '李悦铭', '龚洁', '中国大陆']  \n",
       "41  ['2012-11-09(美国)', '2013-01-21(中国大陆)', '丹尼尔·克雷...  \n",
       "43  ['2015-11-06(美国)', '2015-11-13(中国大陆)', '丹尼尔·克雷...  "
      ]
     },
     "execution_count": 15,
     "metadata": {},
     "output_type": "execute_result"
    }
   ],
   "source": [
    "newdf = newdf[np.logical_and(newdf['time']>=2010,newdf['time']<=2016)]\n",
    "newdf.head()"
   ]
  },
  {
   "cell_type": "code",
   "execution_count": 16,
   "metadata": {},
   "outputs": [
    {
     "data": {
      "text/html": [
       "<div>\n",
       "<style scoped>\n",
       "    .dataframe tbody tr th:only-of-type {\n",
       "        vertical-align: middle;\n",
       "    }\n",
       "\n",
       "    .dataframe tbody tr th {\n",
       "        vertical-align: top;\n",
       "    }\n",
       "\n",
       "    .dataframe thead th {\n",
       "        text-align: right;\n",
       "    }\n",
       "</style>\n",
       "<table border=\"1\" class=\"dataframe\">\n",
       "  <thead>\n",
       "    <tr style=\"text-align: right;\">\n",
       "      <th></th>\n",
       "      <th>title</th>\n",
       "      <th>score</th>\n",
       "      <th>pnum</th>\n",
       "      <th>time</th>\n",
       "      <th>actor</th>\n",
       "    </tr>\n",
       "  </thead>\n",
       "  <tbody>\n",
       "    <tr>\n",
       "      <td>15</td>\n",
       "      <td>(无)性恋</td>\n",
       "      <td>6.9</td>\n",
       "      <td>342.0</td>\n",
       "      <td>2011.0</td>\n",
       "      <td>['大卫·杰伊', '乔·贝哈', '塔克·卡尔森', '詹尼安·吉劳法罗', '史蒂文·帕...</td>\n",
       "    </tr>\n",
       "    <tr>\n",
       "      <td>16</td>\n",
       "      <td>0.5毫米</td>\n",
       "      <td>8.2</td>\n",
       "      <td>9027.0</td>\n",
       "      <td>2014.0</td>\n",
       "      <td>['安藤樱', '织本顺吉', '木内みどり', '土屋希望', '井上竜夫']</td>\n",
       "    </tr>\n",
       "    <tr>\n",
       "      <td>17</td>\n",
       "      <td>0.5的爱情</td>\n",
       "      <td>4.3</td>\n",
       "      <td>2866.0</td>\n",
       "      <td>2014.0</td>\n",
       "      <td>['蒲巴甲', '江语晨', '李悦铭', '龚洁', '中国大陆']</td>\n",
       "    </tr>\n",
       "    <tr>\n",
       "      <td>41</td>\n",
       "      <td>007：大破天幕杀机</td>\n",
       "      <td>6.9</td>\n",
       "      <td>163698.0</td>\n",
       "      <td>2012.0</td>\n",
       "      <td>['2012-11-09(美国)', '2013-01-21(中国大陆)', '丹尼尔·克雷...</td>\n",
       "    </tr>\n",
       "    <tr>\n",
       "      <td>43</td>\n",
       "      <td>007：幽灵党</td>\n",
       "      <td>6.2</td>\n",
       "      <td>107794.0</td>\n",
       "      <td>2015.0</td>\n",
       "      <td>['2015-11-06(美国)', '2015-11-13(中国大陆)', '丹尼尔·克雷...</td>\n",
       "    </tr>\n",
       "  </tbody>\n",
       "</table>\n",
       "</div>"
      ],
      "text/plain": [
       "         title score      pnum    time  \\\n",
       "15       (无)性恋   6.9     342.0  2011.0   \n",
       "16       0.5毫米   8.2    9027.0  2014.0   \n",
       "17      0.5的爱情   4.3    2866.0  2014.0   \n",
       "41  007：大破天幕杀机   6.9  163698.0  2012.0   \n",
       "43     007：幽灵党   6.2  107794.0  2015.0   \n",
       "\n",
       "                                                actor  \n",
       "15  ['大卫·杰伊', '乔·贝哈', '塔克·卡尔森', '詹尼安·吉劳法罗', '史蒂文·帕...  \n",
       "16           ['安藤樱', '织本顺吉', '木内みどり', '土屋希望', '井上竜夫']  \n",
       "17                ['蒲巴甲', '江语晨', '李悦铭', '龚洁', '中国大陆']  \n",
       "41  ['2012-11-09(美国)', '2013-01-21(中国大陆)', '丹尼尔·克雷...  \n",
       "43  ['2015-11-06(美国)', '2015-11-13(中国大陆)', '丹尼尔·克雷...  "
      ]
     },
     "execution_count": 16,
     "metadata": {},
     "output_type": "execute_result"
    }
   ],
   "source": [
    "newdf = newdf[(newdf['pnum']>0) & ~isinstance(newdf['score'],str)] # 去掉没有评分的\n",
    "newdf.head()"
   ]
  },
  {
   "cell_type": "code",
   "execution_count": 18,
   "metadata": {},
   "outputs": [],
   "source": [
    "for i in range(newdf.shape[0]):\n",
    "    if type(newdf.iloc[i,1]) is str:\n",
    "        newdf.iloc[i,1] = float(newdf.iloc[i,1])"
   ]
  },
  {
   "cell_type": "markdown",
   "metadata": {},
   "source": [
    "#### *生成电影得分在2010到2016年的取值占比(世界)"
   ]
  },
  {
   "cell_type": "code",
   "execution_count": 20,
   "metadata": {},
   "outputs": [
    {
     "data": {
      "text/plain": [
       "[[187, 245, 321, 442, 537, 740, 1080],\n",
       " [269, 298, 398, 501, 611, 785, 805],\n",
       " [602, 710, 895, 931, 1075, 1184, 1256],\n",
       " [931, 1028, 1193, 1230, 1271, 1611, 1712],\n",
       " [948, 981, 1015, 1246, 1290, 1264, 1395]]"
      ]
     },
     "execution_count": 20,
     "metadata": {},
     "output_type": "execute_result"
    }
   ],
   "source": [
    "wall = [0,5,6,7,8,10]\n",
    "\n",
    "score_flow = [[],[],[],[],[]] # 5项分别是<5,5-6,6-7,7-8,>8的，在2010~2016年的变化列表\n",
    "for year in range(2010,2017):\n",
    "    _df = newdf[newdf['time']==year]\n",
    "    for j in range(5):\n",
    "        score_flow[j].append(_df[(_df['score']>wall[j])&(_df['score']<=wall[j+1])].shape[0])\n",
    "    \n",
    "score_flow"
   ]
  },
  {
   "cell_type": "code",
   "execution_count": 22,
   "metadata": {},
   "outputs": [],
   "source": [
    "with open('../DataSet/douban_more/score_flow.pkl', 'wb') as f:\n",
    "    pickle.dump(score_flow, f)"
   ]
  },
  {
   "cell_type": "markdown",
   "metadata": {},
   "source": [
    "#### *生成电影得分在2010到2016年的取值占比(中国)"
   ]
  },
  {
   "cell_type": "code",
   "execution_count": 29,
   "metadata": {},
   "outputs": [
    {
     "data": {
      "text/plain": [
       "[[48, 93, 118, 192, 224, 323, 570],\n",
       " [48, 76, 81, 91, 110, 172, 284],\n",
       " [48, 87, 100, 93, 108, 164, 279],\n",
       " [46, 81, 112, 102, 124, 185, 277],\n",
       " [49, 66, 57, 61, 108, 118, 169]]"
      ]
     },
     "execution_count": 29,
     "metadata": {},
     "output_type": "execute_result"
    }
   ],
   "source": [
    "# 5项分别是<5,5-6,6-7,7-8,>8的，在2010~2016年的变化列表\n",
    "score_flow_cn = [[0,0,0,0,0,0,0],[0,0,0,0,0,0,0],[0,0,0,0,0,0,0],[0,0,0,0,0,0,0],[0,0,0,0,0,0,0]]\n",
    "for year in range(2010,2017):\n",
    "    _df = newdf[newdf['time']==year] # 今年的数据\n",
    "    for j in range(5): # 对每个区间\n",
    "        ndf = _df[(_df['score']>wall[j])&(_df['score']<=wall[j+1])] # 取这个区间的数据\n",
    "        for k in range(ndf.shape[0]): # 对其中的每条数据\n",
    "            indf = df[df['电影名']==ndf.iloc[k,0]] # 在原始df中获取相同title的那条\n",
    "            if indf.shape[0]==0:\n",
    "                continue\n",
    "            # 如果这一项\"时间中\"没有中国大陆,就跳过\n",
    "            timestr = str(indf.iloc[0,4])\n",
    "            if re.search(r\"中国大陆\",timestr) is None:\n",
    "                continue\n",
    "            # 否则数目加1\n",
    "            score_flow_cn[j][year-2010] += 1\n",
    "\n",
    "score_flow_cn"
   ]
  },
  {
   "cell_type": "code",
   "execution_count": 30,
   "metadata": {},
   "outputs": [],
   "source": [
    "with open('../DataSet/douban_more/score_flow_cn.pkl', 'wb') as f:\n",
    "    pickle.dump(score_flow_cn, f)"
   ]
  },
  {
   "cell_type": "markdown",
   "metadata": {},
   "source": [
    "### 清理上一步得到的时间数据，只取1920-2016(数据到2016年)"
   ]
  },
  {
   "cell_type": "code",
   "execution_count": 18,
   "metadata": {},
   "outputs": [],
   "source": [
    "newdf = newdf[np.logical_and(newdf['time']>='1920',newdf['time']<='2016')]"
   ]
  },
  {
   "cell_type": "code",
   "execution_count": 19,
   "metadata": {},
   "outputs": [],
   "source": [
    "newdf.to_csv('../DataSet/douban_more/have_time2.csv', index=False, encoding=\"utf_8_sig\")"
   ]
  },
  {
   "cell_type": "markdown",
   "metadata": {},
   "source": [
    "### 去掉上一步得到的数据中没有评分的条目"
   ]
  },
  {
   "cell_type": "code",
   "execution_count": 20,
   "metadata": {},
   "outputs": [
    {
     "data": {
      "text/plain": [
       "70153"
      ]
     },
     "execution_count": 20,
     "metadata": {},
     "output_type": "execute_result"
    }
   ],
   "source": [
    "newdf.shape[0]"
   ]
  },
  {
   "cell_type": "code",
   "execution_count": 67,
   "metadata": {},
   "outputs": [],
   "source": [
    "have_time_score = newdf[(newdf['pnum']>0) & ~isinstance(newdf['score'],str)]"
   ]
  },
  {
   "cell_type": "code",
   "execution_count": 68,
   "metadata": {},
   "outputs": [
    {
     "data": {
      "text/plain": [
       "{float, int}"
      ]
     },
     "execution_count": 68,
     "metadata": {},
     "output_type": "execute_result"
    }
   ],
   "source": [
    "ok = set()\n",
    "for i in range(have_time_score.shape[0]):\n",
    "    ok = ok | {type(have_time_score.iloc[i,1])}\n",
    "ok"
   ]
  },
  {
   "cell_type": "code",
   "execution_count": 71,
   "metadata": {},
   "outputs": [
    {
     "data": {
      "text/plain": [
       "{numpy.float64}"
      ]
     },
     "execution_count": 71,
     "metadata": {},
     "output_type": "execute_result"
    }
   ],
   "source": [
    "ok = set()\n",
    "for i in range(have_time_score.shape[0]):\n",
    "    if isinstance(have_time_score.iloc[i,1],float):\n",
    "        have_time_score.iloc[i,1] = np.float64(have_time_score.iloc[i,1])\n",
    "\n",
    "for i in range(have_time_score.shape[0]):\n",
    "    ok = ok | {type(have_time_score.iloc[i,1])}\n",
    "\n",
    "ok"
   ]
  },
  {
   "cell_type": "markdown",
   "metadata": {},
   "source": [
    "### 生成【电影评分随年份变化】(全世界) 1925-2016 的平均评分列表,写入pickle"
   ]
  },
  {
   "cell_type": "code",
   "execution_count": 72,
   "metadata": {},
   "outputs": [
    {
     "data": {
      "text/html": [
       "<div>\n",
       "<style scoped>\n",
       "    .dataframe tbody tr th:only-of-type {\n",
       "        vertical-align: middle;\n",
       "    }\n",
       "\n",
       "    .dataframe tbody tr th {\n",
       "        vertical-align: top;\n",
       "    }\n",
       "\n",
       "    .dataframe thead th {\n",
       "        text-align: right;\n",
       "    }\n",
       "</style>\n",
       "<table border=\"1\" class=\"dataframe\">\n",
       "  <thead>\n",
       "    <tr style=\"text-align: right;\">\n",
       "      <th></th>\n",
       "      <th>pnum</th>\n",
       "    </tr>\n",
       "    <tr>\n",
       "      <th>time</th>\n",
       "      <th></th>\n",
       "    </tr>\n",
       "  </thead>\n",
       "  <tbody>\n",
       "    <tr>\n",
       "      <td>1920</td>\n",
       "      <td>2596.785714</td>\n",
       "    </tr>\n",
       "    <tr>\n",
       "      <td>1921</td>\n",
       "      <td>3539.500000</td>\n",
       "    </tr>\n",
       "    <tr>\n",
       "      <td>1922</td>\n",
       "      <td>2473.352941</td>\n",
       "    </tr>\n",
       "    <tr>\n",
       "      <td>1923</td>\n",
       "      <td>1636.166667</td>\n",
       "    </tr>\n",
       "    <tr>\n",
       "      <td>1924</td>\n",
       "      <td>1423.266667</td>\n",
       "    </tr>\n",
       "  </tbody>\n",
       "</table>\n",
       "</div>"
      ],
      "text/plain": [
       "             pnum\n",
       "time             \n",
       "1920  2596.785714\n",
       "1921  3539.500000\n",
       "1922  2473.352941\n",
       "1923  1636.166667\n",
       "1924  1423.266667"
      ]
     },
     "execution_count": 72,
     "metadata": {},
     "output_type": "execute_result"
    }
   ],
   "source": [
    "g = have_time_score.groupby('time').mean()\n",
    "g.head()"
   ]
  },
  {
   "cell_type": "code",
   "execution_count": 77,
   "metadata": {},
   "outputs": [
    {
     "data": {
      "text/plain": [
       "[8.641666666666666,\n",
       " 7.977777777777776,\n",
       " 8.264705882352944,\n",
       " 8.563157894736841,\n",
       " 7.672727272727272,\n",
       " 7.857142857142857,\n",
       " 7.88148148148148,\n",
       " 7.622222222222223,\n",
       " 7.639130434782607,\n",
       " 7.715151515151517,\n",
       " 7.875510204081634,\n",
       " 7.85945945945946,\n",
       " 7.804761904761904,\n",
       " 8.025,\n",
       " 8.073469387755104,\n",
       " 8.068292682926833,\n",
       " 7.763043478260872,\n",
       " 7.758928571428571,\n",
       " 8.04583333333333,\n",
       " 8.094444444444443,\n",
       " 7.9655172413793105,\n",
       " 8.006060606060604,\n",
       " 7.783720930232559,\n",
       " 8.021999999999998,\n",
       " 7.949999999999997,\n",
       " 8.153333333333334,\n",
       " 7.907547169811322,\n",
       " 8.22153846153846,\n",
       " 7.902020202020201,\n",
       " 8.104225352112676,\n",
       " 7.78041237113402,\n",
       " 7.8094827586206925,\n",
       " 8.175728155339801,\n",
       " 7.793548387096775,\n",
       " 8.051162790697676,\n",
       " 7.9362831858407095,\n",
       " 8.081052631578945,\n",
       " 8.090983606557378,\n",
       " 7.718823529411765,\n",
       " 7.848905109489049,\n",
       " 7.841964285714286,\n",
       " 8.004799999999996,\n",
       " 7.938399999999998,\n",
       " 7.8022727272727215,\n",
       " 7.890476190476191,\n",
       " 7.67708333333333,\n",
       " 7.67986577181208,\n",
       " 7.681122448979588,\n",
       " 7.582105263157897,\n",
       " 7.397894736842097,\n",
       " 7.680232558139535,\n",
       " 7.475409836065571,\n",
       " 7.470256410256413,\n",
       " 7.333999999999996,\n",
       " 7.727317073170729,\n",
       " 7.50816326530612,\n",
       " 7.495081967213115,\n",
       " 7.594117647058819,\n",
       " 7.6891891891891895,\n",
       " 7.750759878419448,\n",
       " 7.664057971014487,\n",
       " 7.672451790633611,\n",
       " 7.703141361256538,\n",
       " 7.606249999999988,\n",
       " 7.610300429184551,\n",
       " 7.6607072691551945,\n",
       " 7.6786618444846315,\n",
       " 7.658597662771287,\n",
       " 7.785957446808511,\n",
       " 7.791654247391959,\n",
       " 7.831325301204817,\n",
       " 7.7225433526011455,\n",
       " 7.762454873646207,\n",
       " 7.714819136522749,\n",
       " 7.662167300380227,\n",
       " 7.662511627906986,\n",
       " 7.605346700083547,\n",
       " 7.593465045592695,\n",
       " 7.5635850388144,\n",
       " 7.526882966396289,\n",
       " 7.422188603126572,\n",
       " 7.405595344673246,\n",
       " 7.348461538461546,\n",
       " 7.311850711812245,\n",
       " 7.337050490374139,\n",
       " 7.324310520939726,\n",
       " 7.239760882893927,\n",
       " 7.135792778649922,\n",
       " 7.0709195402298715,\n",
       " 6.978950668896308,\n",
       " 6.831321633237805,\n",
       " 6.710211267605606]"
      ]
     },
     "execution_count": 77,
     "metadata": {},
     "output_type": "execute_result"
    }
   ],
   "source": [
    "mean_score_list = []\n",
    "for year in range(1925,2017):\n",
    "    score = 0\n",
    "    _df = have_time_score[have_time_score['time']==str(year)]\n",
    "    for i in range(_df.shape[0]):\n",
    "        score += _df.iloc[i,1]\n",
    "    mean_score_list.append(score/_df.shape[0])\n",
    "\n",
    "mean_score_list"
   ]
  },
  {
   "cell_type": "code",
   "execution_count": 78,
   "metadata": {},
   "outputs": [],
   "source": [
    "with open('../DataSet/douban_more/mean_score_list.pkl', 'wb') as f:\n",
    "    pickle.dump(mean_score_list, f)"
   ]
  },
  {
   "cell_type": "code",
   "execution_count": 79,
   "metadata": {},
   "outputs": [
    {
     "data": {
      "text/plain": [
       "92"
      ]
     },
     "execution_count": 79,
     "metadata": {},
     "output_type": "execute_result"
    }
   ],
   "source": [
    "len(mean_score_list)"
   ]
  },
  {
   "cell_type": "markdown",
   "metadata": {},
   "source": [
    "### 生成【电影评分随年份变化】(中国大陆) 1925-2016 的平均评分列表,写入pickle"
   ]
  },
  {
   "cell_type": "code",
   "execution_count": 81,
   "metadata": {},
   "outputs": [
    {
     "data": {
      "text/plain": [
       "[0,\n",
       " 0,\n",
       " 0,\n",
       " 0,\n",
       " 0,\n",
       " 0,\n",
       " 0,\n",
       " 0,\n",
       " 0,\n",
       " 0,\n",
       " 0,\n",
       " 0,\n",
       " 0,\n",
       " 0,\n",
       " 0,\n",
       " 7.5,\n",
       " 8.5,\n",
       " 0,\n",
       " 0,\n",
       " 0,\n",
       " 0,\n",
       " 0,\n",
       " 0,\n",
       " 0,\n",
       " 8.5,\n",
       " 0,\n",
       " 0,\n",
       " 0,\n",
       " 0,\n",
       " 0,\n",
       " 0,\n",
       " 0,\n",
       " 0,\n",
       " 0,\n",
       " 0,\n",
       " 0,\n",
       " 0,\n",
       " 0,\n",
       " 7.0,\n",
       " 0,\n",
       " 0,\n",
       " 0,\n",
       " 0,\n",
       " 0,\n",
       " 0,\n",
       " 0,\n",
       " 0,\n",
       " 0,\n",
       " 0,\n",
       " 0,\n",
       " 0,\n",
       " 0,\n",
       " 7.4,\n",
       " 0,\n",
       " 8.8,\n",
       " 0,\n",
       " 4.9,\n",
       " 7.9,\n",
       " 9.1,\n",
       " 7.050000000000001,\n",
       " 8.3,\n",
       " 8.9,\n",
       " 8.211111111111112,\n",
       " 7.7,\n",
       " 8.12,\n",
       " 8.322222222222221,\n",
       " 7.82,\n",
       " 8.4,\n",
       " 8.175,\n",
       " 7.970000000000001,\n",
       " 8.136363636363638,\n",
       " 7.4,\n",
       " 7.688888888888887,\n",
       " 7.418181818181818,\n",
       " 7.5289473684210515,\n",
       " 7.2875,\n",
       " 7.7323943661971795,\n",
       " 7.24126984126984,\n",
       " 7.365277777777779,\n",
       " 7.368354430379749,\n",
       " 6.934259259259266,\n",
       " 7.060344827586212,\n",
       " 6.822222222222224,\n",
       " 6.728695652173914,\n",
       " 6.788372093023259,\n",
       " 6.474058577405861,\n",
       " 6.297766749379656,\n",
       " 6.247008547008553,\n",
       " 5.827087198515771,\n",
       " 6.003115727002961,\n",
       " 5.903742203742192,\n",
       " 5.733818872704237]"
      ]
     },
     "execution_count": 81,
     "metadata": {},
     "output_type": "execute_result"
    }
   ],
   "source": [
    "mean_score_list_cn = []\n",
    "for year in range(1925,2017):\n",
    "    score = 0\n",
    "    cnt = 0\n",
    "    _df = have_time_score[have_time_score['time']==str(year)]\n",
    "    # 对当前年份的每个条目\n",
    "    for i in range(_df.shape[0]):\n",
    "        # 寻找在df中这个条目的项组成的df\n",
    "        indf = df[df['电影名']==_df.iloc[i,0]]\n",
    "        # 如果这一项\"时间中\"没有中国大陆,就跳过\n",
    "        timestr = str(indf.iloc[0,4])\n",
    "        if re.search(r\"中国大陆\",timestr) is None:\n",
    "            continue\n",
    "        cnt +=1\n",
    "        score += _df.iloc[i,1]\n",
    "    mean_score_list_cn.append(0 if cnt==0 else score/cnt)\n",
    "\n",
    "mean_score_list_cn"
   ]
  },
  {
   "cell_type": "code",
   "execution_count": 82,
   "metadata": {},
   "outputs": [],
   "source": [
    "with open('../DataSet/douban_more/mean_score_list_cn.pkl', 'wb') as f:\n",
    "    pickle.dump(mean_score_list_cn, f)"
   ]
  },
  {
   "cell_type": "markdown",
   "metadata": {},
   "source": [
    "### 获取有电影评分的数据"
   ]
  },
  {
   "cell_type": "markdown",
   "metadata": {},
   "source": [
    "### 生成【电影评分分布情况】(世界)"
   ]
  },
  {
   "cell_type": "code",
   "execution_count": 96,
   "metadata": {},
   "outputs": [
    {
     "data": {
      "text/plain": [
       "[5372, 13188, 20531, 12939, 11389, 8233, 4591]"
      ]
     },
     "execution_count": 96,
     "metadata": {},
     "output_type": "execute_result"
    }
   ],
   "source": [
    "score_wall = [0, 5, 6.5, 7.5, 8, 8.5, 9, 10]\n",
    "lendf = df.shape[0]\n",
    "\n",
    "score_distri = [0 for i in range(7)]\n",
    "for i in range(len(score_wall)-1): # i和i+1组成区间\n",
    "    for j in range(lendf):\n",
    "        if type(df.iloc[j,1]) is str:\n",
    "            continue\n",
    "        if df.iloc[j,1]>score_wall[i] and df.iloc[j,1]<=score_wall[i+1]:\n",
    "            score_distri[i] += 1\n",
    "\n",
    "score_distri"
   ]
  },
  {
   "cell_type": "code",
   "execution_count": 97,
   "metadata": {},
   "outputs": [],
   "source": [
    "with open('../DataSet/douban_more/score_distri.pkl', 'wb') as f:\n",
    "    pickle.dump(score_distri, f)"
   ]
  },
  {
   "cell_type": "markdown",
   "metadata": {},
   "source": [
    "### 生成【电影评分分布情况】(中国大陆)"
   ]
  },
  {
   "cell_type": "code",
   "execution_count": 99,
   "metadata": {},
   "outputs": [
    {
     "data": {
      "text/plain": [
       "[1690, 1571, 1439, 849, 639, 399, 234]"
      ]
     },
     "execution_count": 99,
     "metadata": {},
     "output_type": "execute_result"
    }
   ],
   "source": [
    "score_distri_cn = [0 for i in range(7)]\n",
    "for i in range(len(score_wall)-1): # i和i+1组成区间\n",
    "    for j in range(lendf):\n",
    "        # 中国大陆判断条件:时间是字符串且包含中国大陆字样\n",
    "        if (type(df.iloc[j,1]) is str) or (type(df.iloc[j,4]) is not str) or (re.search(r\"中国大陆\",df.iloc[j,4]) is None):\n",
    "            continue\n",
    "        if df.iloc[j,1]>score_wall[i] and df.iloc[j,1]<=score_wall[i+1]:\n",
    "            score_distri_cn[i] += 1\n",
    "\n",
    "score_distri_cn"
   ]
  },
  {
   "cell_type": "code",
   "execution_count": 100,
   "metadata": {},
   "outputs": [],
   "source": [
    "with open('../DataSet/douban_more/score_distri_cn.pkl', 'wb') as f:\n",
    "    pickle.dump(score_distri_cn, f)"
   ]
  },
  {
   "cell_type": "markdown",
   "metadata": {},
   "source": [
    "### 生成【评论数目】在每年的数值(世界&中国大陆) 1920-2016"
   ]
  },
  {
   "cell_type": "code",
   "execution_count": 107,
   "metadata": {},
   "outputs": [],
   "source": [
    "# 评论数目(世界)\n",
    "g = have_time_score.groupby('time').sum()\n",
    "pnum_list = g['pnum'].values.tolist()"
   ]
  },
  {
   "cell_type": "code",
   "execution_count": 108,
   "metadata": {},
   "outputs": [],
   "source": [
    "with open('../DataSet/douban_more/pnum_list.pkl', 'wb') as f:\n",
    "    pickle.dump(pnum_list, f)"
   ]
  },
  {
   "cell_type": "code",
   "execution_count": 119,
   "metadata": {},
   "outputs": [
    {
     "data": {
      "text/plain": [
       "[0,\n",
       " 0,\n",
       " 0,\n",
       " 0,\n",
       " 0,\n",
       " 0,\n",
       " 0,\n",
       " 0,\n",
       " 0,\n",
       " 0,\n",
       " 0,\n",
       " 0,\n",
       " 0,\n",
       " 0,\n",
       " 0,\n",
       " 0,\n",
       " 0,\n",
       " 0,\n",
       " 0,\n",
       " 0,\n",
       " 1530.0,\n",
       " 2095.0,\n",
       " 0,\n",
       " 0,\n",
       " 0,\n",
       " 0,\n",
       " 0,\n",
       " 0,\n",
       " 0,\n",
       " 5339.0,\n",
       " 0,\n",
       " 0,\n",
       " 0,\n",
       " 0,\n",
       " 0,\n",
       " 0,\n",
       " 0,\n",
       " 0,\n",
       " 0,\n",
       " 0,\n",
       " 0,\n",
       " 0,\n",
       " 0,\n",
       " 381.0,\n",
       " 0,\n",
       " 0,\n",
       " 0,\n",
       " 0,\n",
       " 0,\n",
       " 0,\n",
       " 0,\n",
       " 0,\n",
       " 0,\n",
       " 0,\n",
       " 0,\n",
       " 0,\n",
       " 0,\n",
       " 387.0,\n",
       " 0,\n",
       " 271637.0,\n",
       " 0,\n",
       " 53.0,\n",
       " 2066.0,\n",
       " 33201.0,\n",
       " 16969.0,\n",
       " 3107.0,\n",
       " 93223.0,\n",
       " 259974.0,\n",
       " 4710.0,\n",
       " 206588.0,\n",
       " 49530.0,\n",
       " 33154.0,\n",
       " 1824.0,\n",
       " 183382.0,\n",
       " 918073.0,\n",
       " 73992.0,\n",
       " 161385.0,\n",
       " 1396576.0,\n",
       " 545426.0,\n",
       " 693795.0,\n",
       " 152575.0,\n",
       " 2074090.0,\n",
       " 1294704.0,\n",
       " 2425146.0,\n",
       " 2587530.0,\n",
       " 4007857.0,\n",
       " 4350852.0,\n",
       " 3656579.0,\n",
       " 5177862.0,\n",
       " 8983945.0,\n",
       " 13378128.0,\n",
       " 17839560.0,\n",
       " 15786340.0,\n",
       " 17594115.0,\n",
       " 18918936.0,\n",
       " 33104362.0,\n",
       " 32817268.0]"
      ]
     },
     "execution_count": 119,
     "metadata": {},
     "output_type": "execute_result"
    }
   ],
   "source": [
    "# 评论数目(中国大陆)\n",
    "pnum_list_cn = [0 for i in range(97)]\n",
    "for i in range(97):\n",
    "    year = i+1920\n",
    "    pdf = have_time_score[have_time_score['time']==str(year)]\n",
    "    # 对当年的每条有评论的电影\n",
    "    for j in range(pdf.shape[0]):\n",
    "        # 寻找在df中这个条目的项组成的dataframe\n",
    "        indf = df[df['电影名']==pdf.iloc[j,0]]\n",
    "        # 如果这一项\"时间中\"没有中国大陆,就跳过\n",
    "        timestr = str(indf.iloc[0,4])\n",
    "        if re.search(r\"中国大陆\",timestr) is None:\n",
    "            continue\n",
    "        # 否则将其加入到这一年中国大陆的评论数目中\n",
    "        pnum_list_cn[i] += pdf.iloc[j,2]\n",
    "\n",
    "pnum_list_cn"
   ]
  },
  {
   "cell_type": "code",
   "execution_count": 120,
   "metadata": {},
   "outputs": [],
   "source": [
    "with open('../DataSet/douban_more/pnum_list_cn.pkl', 'wb') as f:\n",
    "    pickle.dump(pnum_list_cn, f)"
   ]
  },
  {
   "cell_type": "markdown",
   "metadata": {},
   "source": [
    "### 生成【电影数目】在每年的数值(世界&中国大陆) 1920-2016"
   ]
  },
  {
   "cell_type": "code",
   "execution_count": 121,
   "metadata": {},
   "outputs": [],
   "source": [
    "# 电影数目(世界)\n",
    "g = newdf.groupby('time').count()\n",
    "mvnum_list = g.iloc[:,0].tolist()"
   ]
  },
  {
   "cell_type": "code",
   "execution_count": 122,
   "metadata": {},
   "outputs": [],
   "source": [
    "with open('../DataSet/douban_more/mvnum_list.pkl', 'wb') as f:\n",
    "    pickle.dump(mvnum_list, f)"
   ]
  },
  {
   "cell_type": "code",
   "execution_count": 125,
   "metadata": {},
   "outputs": [
    {
     "data": {
      "text/plain": [
       "[0,\n",
       " 0,\n",
       " 0,\n",
       " 0,\n",
       " 0,\n",
       " 0,\n",
       " 0,\n",
       " 0,\n",
       " 0,\n",
       " 0,\n",
       " 0,\n",
       " 0,\n",
       " 0,\n",
       " 0,\n",
       " 0,\n",
       " 0,\n",
       " 0,\n",
       " 0,\n",
       " 0,\n",
       " 0,\n",
       " 2,\n",
       " 1,\n",
       " 0,\n",
       " 0,\n",
       " 0,\n",
       " 0,\n",
       " 0,\n",
       " 0,\n",
       " 0,\n",
       " 2,\n",
       " 0,\n",
       " 1,\n",
       " 0,\n",
       " 0,\n",
       " 0,\n",
       " 0,\n",
       " 0,\n",
       " 0,\n",
       " 0,\n",
       " 0,\n",
       " 0,\n",
       " 0,\n",
       " 0,\n",
       " 1,\n",
       " 0,\n",
       " 0,\n",
       " 0,\n",
       " 0,\n",
       " 0,\n",
       " 2,\n",
       " 0,\n",
       " 0,\n",
       " 0,\n",
       " 0,\n",
       " 0,\n",
       " 0,\n",
       " 0,\n",
       " 1,\n",
       " 0,\n",
       " 4,\n",
       " 0,\n",
       " 1,\n",
       " 2,\n",
       " 1,\n",
       " 2,\n",
       " 1,\n",
       " 3,\n",
       " 9,\n",
       " 1,\n",
       " 5,\n",
       " 9,\n",
       " 5,\n",
       " 2,\n",
       " 8,\n",
       " 10,\n",
       " 11,\n",
       " 11,\n",
       " 29,\n",
       " 11,\n",
       " 40,\n",
       " 32,\n",
       " 71,\n",
       " 63,\n",
       " 72,\n",
       " 79,\n",
       " 108,\n",
       " 119,\n",
       " 128,\n",
       " 117,\n",
       " 172,\n",
       " 241,\n",
       " 409,\n",
       " 476,\n",
       " 544,\n",
       " 680,\n",
       " 993,\n",
       " 1893]"
      ]
     },
     "execution_count": 125,
     "metadata": {},
     "output_type": "execute_result"
    }
   ],
   "source": [
    "# 电影数目(中国大陆)\n",
    "mvnum_list_cn = [0 for i in range(97)]\n",
    "for i in range(97):\n",
    "    year = i+1920\n",
    "    pdf = newdf[newdf['time']==str(year)]\n",
    "    # 对当年的每条电影\n",
    "    for j in range(pdf.shape[0]):\n",
    "        # 寻找在df中这个条目的项组成的dataframe\n",
    "        indf = df[df['电影名']==pdf.iloc[j,0]]\n",
    "        # 如果这一项\"时间中\"没有中国大陆,就跳过\n",
    "        timestr = str(indf.iloc[0,4])\n",
    "        if re.search(r\"中国大陆\",timestr) is None:\n",
    "            continue\n",
    "        # 否则加入这条电影\n",
    "        mvnum_list_cn[i] += 1\n",
    "\n",
    "mvnum_list_cn"
   ]
  },
  {
   "cell_type": "code",
   "execution_count": 126,
   "metadata": {},
   "outputs": [],
   "source": [
    "with open('../DataSet/douban_more/mvnum_list_cn.pkl', 'wb') as f:\n",
    "    pickle.dump(mvnum_list_cn, f)"
   ]
  }
 ],
 "metadata": {
  "kernelspec": {
   "display_name": "Python 3",
   "language": "python",
   "name": "python3"
  },
  "language_info": {
   "codemirror_mode": {
    "name": "ipython",
    "version": 3
   },
   "file_extension": ".py",
   "mimetype": "text/x-python",
   "name": "python",
   "nbconvert_exporter": "python",
   "pygments_lexer": "ipython3",
   "version": "3.7.4"
  }
 },
 "nbformat": 4,
 "nbformat_minor": 2
}
