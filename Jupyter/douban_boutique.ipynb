{
 "cells": [
  {
   "cell_type": "code",
   "execution_count": 13,
   "metadata": {},
   "outputs": [],
   "source": [
    "import pandas as pd\n",
    "import pickle"
   ]
  },
  {
   "cell_type": "code",
   "execution_count": 4,
   "metadata": {},
   "outputs": [
    {
     "data": {
      "text/html": [
       "<div>\n",
       "<style scoped>\n",
       "    .dataframe tbody tr th:only-of-type {\n",
       "        vertical-align: middle;\n",
       "    }\n",
       "\n",
       "    .dataframe tbody tr th {\n",
       "        vertical-align: top;\n",
       "    }\n",
       "\n",
       "    .dataframe thead th {\n",
       "        text-align: right;\n",
       "    }\n",
       "</style>\n",
       "<table border=\"1\" class=\"dataframe\">\n",
       "  <thead>\n",
       "    <tr style=\"text-align: right;\">\n",
       "      <th></th>\n",
       "      <th>title</th>\n",
       "      <th>types</th>\n",
       "      <th>score</th>\n",
       "      <th>director</th>\n",
       "      <th>writer</th>\n",
       "      <th>actor</th>\n",
       "      <th>account</th>\n",
       "      <th>country</th>\n",
       "      <th>label</th>\n",
       "      <th>flim_version</th>\n",
       "    </tr>\n",
       "  </thead>\n",
       "  <tbody>\n",
       "    <tr>\n",
       "      <td>0</td>\n",
       "      <td>这个杀手不太冷</td>\n",
       "      <td>剧情, 动作, 犯罪</td>\n",
       "      <td>9.4</td>\n",
       "      <td>吕克·贝松 Luc Besson</td>\n",
       "      <td>吕克·贝松 Luc Besson</td>\n",
       "      <td>让·雷诺, 娜塔莉·波特曼, 加里·奥德曼, 丹尼·爱罗, 彼得·阿佩尔, 迈克尔·巴达鲁科...</td>\n",
       "      <td>1088567</td>\n",
       "      <td>法国</td>\n",
       "      <td>1023.25298</td>\n",
       "      <td>2</td>\n",
       "    </tr>\n",
       "    <tr>\n",
       "      <td>1</td>\n",
       "      <td>七武士</td>\n",
       "      <td>动作, 冒险, 剧情</td>\n",
       "      <td>9.2</td>\n",
       "      <td>黑泽明 Akira Kurosawa</td>\n",
       "      <td>黑泽明 Akira Kurosawa, 小国英雄 Hideo Oguni, 桥本忍 Shin...</td>\n",
       "      <td>三船敏郎, 志村乔, 稻叶义男, 宫口精二, 千秋实, 加东大介, 木村功</td>\n",
       "      <td>91163</td>\n",
       "      <td>日本</td>\n",
       "      <td>83.86996</td>\n",
       "      <td>6</td>\n",
       "    </tr>\n",
       "    <tr>\n",
       "      <td>2</td>\n",
       "      <td>蝙蝠侠：黑暗骑士</td>\n",
       "      <td>剧情, 动作, 科幻, 犯罪, 惊悚</td>\n",
       "      <td>9.1</td>\n",
       "      <td>克里斯托弗·诺兰 Christopher Nolan</td>\n",
       "      <td>乔纳森·诺兰 Jonathan Nolan, 克里斯托弗·诺兰 Christopher No...</td>\n",
       "      <td>克里斯蒂安·贝尔, 希斯·莱杰, 艾伦·艾克哈特, 迈克尔·凯恩, 玛吉·吉伦哈尔, 加里·...</td>\n",
       "      <td>423487</td>\n",
       "      <td>美国, 英国</td>\n",
       "      <td>385.37317</td>\n",
       "      <td>1</td>\n",
       "    </tr>\n",
       "    <tr>\n",
       "      <td>3</td>\n",
       "      <td>指环王3：王者无敌</td>\n",
       "      <td>剧情, 动作, 奇幻, 冒险</td>\n",
       "      <td>9.1</td>\n",
       "      <td>彼得·杰克逊 Peter Jackson</td>\n",
       "      <td>弗兰·威尔士 Fran Walsh, Philippa Boyens, 彼得·杰克逊 Pet...</td>\n",
       "      <td>维果·莫腾森, 伊莱贾·伍德, 西恩·奥斯汀, 丽芙·泰勒, 伊恩·麦克莱恩, 奥兰多·布鲁...</td>\n",
       "      <td>350209</td>\n",
       "      <td>美国, 新西兰</td>\n",
       "      <td>318.69019</td>\n",
       "      <td>3</td>\n",
       "    </tr>\n",
       "    <tr>\n",
       "      <td>4</td>\n",
       "      <td>搏击俱乐部</td>\n",
       "      <td>剧情, 动作, 悬疑, 惊悚</td>\n",
       "      <td>9.0</td>\n",
       "      <td>大卫·芬奇 David Fincher</td>\n",
       "      <td>恰克·帕拉尼克 Chuck Palahniuk, Jim Uhls</td>\n",
       "      <td>爱德华·诺顿, 布拉德·皮特, 海伦娜·伯翰·卡特, 扎克·格雷尼尔, 米特·洛夫, 杰瑞德...</td>\n",
       "      <td>465674</td>\n",
       "      <td>美国, 德国</td>\n",
       "      <td>419.10660</td>\n",
       "      <td>1</td>\n",
       "    </tr>\n",
       "  </tbody>\n",
       "</table>\n",
       "</div>"
      ],
      "text/plain": [
       "       title               types  score                    director  \\\n",
       "0    这个杀手不太冷          剧情, 动作, 犯罪    9.4            吕克·贝松 Luc Besson   \n",
       "1        七武士          动作, 冒险, 剧情    9.2          黑泽明 Akira Kurosawa   \n",
       "2   蝙蝠侠：黑暗骑士  剧情, 动作, 科幻, 犯罪, 惊悚    9.1  克里斯托弗·诺兰 Christopher Nolan   \n",
       "3  指环王3：王者无敌      剧情, 动作, 奇幻, 冒险    9.1        彼得·杰克逊 Peter Jackson   \n",
       "4      搏击俱乐部      剧情, 动作, 悬疑, 惊悚    9.0         大卫·芬奇 David Fincher   \n",
       "\n",
       "                                              writer  \\\n",
       "0                                   吕克·贝松 Luc Besson   \n",
       "1  黑泽明 Akira Kurosawa, 小国英雄 Hideo Oguni, 桥本忍 Shin...   \n",
       "2  乔纳森·诺兰 Jonathan Nolan, 克里斯托弗·诺兰 Christopher No...   \n",
       "3  弗兰·威尔士 Fran Walsh, Philippa Boyens, 彼得·杰克逊 Pet...   \n",
       "4                  恰克·帕拉尼克 Chuck Palahniuk, Jim Uhls   \n",
       "\n",
       "                                               actor  account  country  \\\n",
       "0  让·雷诺, 娜塔莉·波特曼, 加里·奥德曼, 丹尼·爱罗, 彼得·阿佩尔, 迈克尔·巴达鲁科...  1088567       法国   \n",
       "1              三船敏郎, 志村乔, 稻叶义男, 宫口精二, 千秋实, 加东大介, 木村功    91163       日本   \n",
       "2  克里斯蒂安·贝尔, 希斯·莱杰, 艾伦·艾克哈特, 迈克尔·凯恩, 玛吉·吉伦哈尔, 加里·...   423487   美国, 英国   \n",
       "3  维果·莫腾森, 伊莱贾·伍德, 西恩·奥斯汀, 丽芙·泰勒, 伊恩·麦克莱恩, 奥兰多·布鲁...   350209  美国, 新西兰   \n",
       "4  爱德华·诺顿, 布拉德·皮特, 海伦娜·伯翰·卡特, 扎克·格雷尼尔, 米特·洛夫, 杰瑞德...   465674   美国, 德国   \n",
       "\n",
       "        label  flim_version  \n",
       "0  1023.25298             2  \n",
       "1    83.86996             6  \n",
       "2   385.37317             1  \n",
       "3   318.69019             3  \n",
       "4   419.10660             1  "
      ]
     },
     "execution_count": 4,
     "metadata": {},
     "output_type": "execute_result"
    }
   ],
   "source": [
    "df = pd.read_csv(\"../DataSet/douban_boutique/movie.csv\", encoding='gbk')\n",
    "df.head()"
   ]
  },
  {
   "cell_type": "markdown",
   "metadata": {},
   "source": [
    "### 生成types集合"
   ]
  },
  {
   "cell_type": "code",
   "execution_count": 12,
   "metadata": {},
   "outputs": [
    {
     "name": "stdout",
     "output_type": "stream",
     "text": [
      "{'灾难', '战争', '爱情', 'Adult', '古装', '悬念', '西部', '情色', '悬疑', '动画', '历史', 'Reality-TV', '运动', '惊悚', '音乐', '剧情', '传记', '儿童', '奇幻', '科幻', '动作', '恐怖', '歌舞', '犯罪', '家庭', '黑色电影', '同性', '武侠', '喜剧', '惊栗', '鬼怪', '冒险'}\n"
     ]
    }
   ],
   "source": [
    "type_set = set()\n",
    "for i in range(df.shape[0]):\n",
    "    type_list = df.iloc[i,1].split(', ')\n",
    "    for i in range(len(type_list)):\n",
    "        type_list[i] = type_list[i].strip(\"\\'\")\n",
    "    type_set = type_set | set(type_list)\n",
    "print(type_set)"
   ]
  },
  {
   "cell_type": "code",
   "execution_count": 15,
   "metadata": {},
   "outputs": [],
   "source": [
    "with open('type_set.pkl','wb') as f:\n",
    "    pickle.dump(type_set,f)"
   ]
  },
  {
   "cell_type": "code",
   "execution_count": null,
   "metadata": {},
   "outputs": [],
   "source": []
  }
 ],
 "metadata": {
  "kernelspec": {
   "display_name": "Python 3",
   "language": "python",
   "name": "python3"
  },
  "language_info": {
   "codemirror_mode": {
    "name": "ipython",
    "version": 3
   },
   "file_extension": ".py",
   "mimetype": "text/x-python",
   "name": "python",
   "nbconvert_exporter": "python",
   "pygments_lexer": "ipython3",
   "version": "3.7.4"
  }
 },
 "nbformat": 4,
 "nbformat_minor": 2
}
